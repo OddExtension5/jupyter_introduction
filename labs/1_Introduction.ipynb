{
 "cells": [
  {
   "cell_type": "markdown",
   "metadata": {},
   "source": [
    "# Creating your first sheet\n",
    "\n",
    "**Instructions:**\n",
    "\n",
    "1. Don't use the mouse and see if you can do it. You have all the power in world on the keyboard!\n",
    "2. Create the following cells"
   ]
  },
  {
   "cell_type": "markdown",
   "metadata": {},
   "source": [
    "**Exercise 1:**\n",
    "\n",
    "1. Create a cell underneath (use keyboard please)\n",
    "2. Create a header called \"Biography\"\n",
    "2. Write a little bit about yourself\n",
    "3. Include an unordered bulleted list of all the technologies and skills that you have\n",
    "4. For the skills that you are an expert in, make that in bold"
   ]
  },
  {
   "cell_type": "markdown",
   "metadata": {},
   "source": [
    "**Exercise 2:**\n",
    "\n",
    "1. Create a cell underneath (use keyboard please)\n",
    "2. Import `pandas` in the standard convention\n",
    "1. Create a `DataFrame` from the file located in `../data/characters.csv`, this will contain all the characters from the Harry Potter Universe.  The data is separated by a `;` so use tooltips to figure out how to do stipulate a separator.\n",
    "3. Assign the `DataFrame` to a variable called `characters`"
   ]
  },
  {
   "cell_type": "markdown",
   "metadata": {},
   "source": [
    "**Exercise 3:**\n",
    "\n",
    "1. Let's find all the Slytherin! \n",
    "2. Create a cell underneath this cell\n",
    "2. Type: `characters.House == 'Slytherin'` or `characters['House'] == 'Slytherin'`\n",
    "3. Notice the Results"
   ]
  },
  {
   "cell_type": "markdown",
   "metadata": {},
   "source": [
    "**Exercise 4:**\n",
    "\n",
    "1. Let's mask this data so we only see the Slytherin\n",
    "5. Create a cell underneath this cell\n",
    "6. Type: `characters[characters.House == 'Slytherin']`\n",
    "7. This process is called masking\n"
   ]
  }
 ],
 "metadata": {
  "kernelspec": {
   "display_name": "Python 3 (ipykernel)",
   "language": "python",
   "name": "python3"
  },
  "language_info": {
   "codemirror_mode": {
    "name": "ipython",
    "version": 3
   },
   "file_extension": ".py",
   "mimetype": "text/x-python",
   "name": "python",
   "nbconvert_exporter": "python",
   "pygments_lexer": "ipython3",
   "version": "3.11.0"
  }
 },
 "nbformat": 4,
 "nbformat_minor": 2
}
