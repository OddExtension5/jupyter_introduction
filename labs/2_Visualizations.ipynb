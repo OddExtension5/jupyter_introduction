{
 "cells": [
  {
   "cell_type": "markdown",
   "metadata": {},
   "source": [
    "# Visualizing Data\n",
    "\n",
    "**Instructions:**\n",
    "\n",
    "1. Don't use the mouse and see if you can do it. You have all the power in world on the keyboard!\n",
    "2. Create the visualization"
   ]
  },
  {
   "cell_type": "markdown",
   "metadata": {},
   "source": [
    "## Exercise 1\n",
    "\n",
    "1. Create a cell underneath (use keyboard please)\n",
    "2. Import pandas in the standard convention\n",
    "3. Create a DataFrame from the file located in `../data/characters.csv`, this will contain all the characters from the Harry Potter Universe. The data is separated by a ; so use tooltips to figure out how to do stipulate a separator.\n",
    "4. Assign the DataFrame to a variable called `characters`"
   ]
  },
  {
   "cell_type": "code",
   "execution_count": null,
   "metadata": {
    "ExecuteTime": {
     "end_time": "2020-01-02T05:49:58.285721Z",
     "start_time": "2020-01-02T05:49:58.237346Z"
    }
   },
   "outputs": [],
   "source": []
  },
  {
   "cell_type": "markdown",
   "metadata": {},
   "source": [
    "## Exercise 2\n",
    "\n",
    "1. Import the standard packages and their conventions to perform plotting\n",
    "2. Be sure to include `import seaborn as sns`"
   ]
  },
  {
   "cell_type": "code",
   "execution_count": null,
   "metadata": {
    "ExecuteTime": {
     "end_time": "2020-01-02T05:50:03.030459Z",
     "start_time": "2020-01-02T05:50:03.017856Z"
    }
   },
   "outputs": [],
   "source": []
  },
  {
   "cell_type": "markdown",
   "metadata": {},
   "source": [
    "## Exercise 3\n",
    "1. Run the following cells to clean up the data, the new cleaned up `DataFrame` is called `clean_characters` \n",
    "2. Create a bar plot showing how many characters belong to each house, use `x_axis` and `y_axis`\n",
    "3. To get started with a bar plot, use `plt.bar`"
   ]
  },
  {
   "cell_type": "code",
   "execution_count": null,
   "metadata": {
    "ExecuteTime": {
     "end_time": "2020-01-02T05:50:33.875140Z",
     "start_time": "2020-01-02T05:50:33.855643Z"
    }
   },
   "outputs": [],
   "source": [
    "clean_characters = characters[['Name', 'House']].dropna()\n",
    "clean_characters.head()"
   ]
  },
  {
   "cell_type": "code",
   "execution_count": null,
   "metadata": {
    "ExecuteTime": {
     "end_time": "2020-01-02T05:50:35.863655Z",
     "start_time": "2020-01-02T05:50:35.842038Z"
    }
   },
   "outputs": [],
   "source": [
    "value_counts = clean_characters['House'].value_counts()\n",
    "value_counts"
   ]
  },
  {
   "cell_type": "code",
   "execution_count": 35,
   "metadata": {
    "ExecuteTime": {
     "end_time": "2020-01-02T05:50:38.171217Z",
     "start_time": "2020-01-02T05:50:38.165620Z"
    }
   },
   "outputs": [],
   "source": [
    "x_axis = value_counts.index\n",
    "y_axis = value_counts.values"
   ]
  },
  {
   "cell_type": "code",
   "execution_count": null,
   "metadata": {
    "ExecuteTime": {
     "end_time": "2020-01-02T05:51:36.714083Z",
     "start_time": "2020-01-02T05:51:36.707499Z"
    }
   },
   "outputs": [],
   "source": [
    "x_axis"
   ]
  },
  {
   "cell_type": "code",
   "execution_count": null,
   "metadata": {
    "ExecuteTime": {
     "end_time": "2020-01-02T05:51:42.873536Z",
     "start_time": "2020-01-02T05:51:42.862233Z"
    }
   },
   "outputs": [],
   "source": [
    "y_axis"
   ]
  },
  {
   "cell_type": "code",
   "execution_count": null,
   "metadata": {
    "ExecuteTime": {
     "end_time": "2020-01-02T05:52:30.110131Z",
     "start_time": "2020-01-02T05:52:29.860304Z"
    }
   },
   "outputs": [],
   "source": []
  },
  {
   "cell_type": "code",
   "execution_count": null,
   "metadata": {},
   "outputs": [],
   "source": []
  },
  {
   "cell_type": "code",
   "execution_count": null,
   "metadata": {},
   "outputs": [],
   "source": []
  }
 ],
 "metadata": {
  "kernelspec": {
   "display_name": "Python 3",
   "language": "python",
   "name": "python3"
  },
  "language_info": {
   "codemirror_mode": {
    "name": "ipython",
    "version": 3
   },
   "file_extension": ".py",
   "mimetype": "text/x-python",
   "name": "python",
   "nbconvert_exporter": "python",
   "pygments_lexer": "ipython3",
   "version": "3.7.5"
  },
  "toc": {
   "base_numbering": 1,
   "nav_menu": {},
   "number_sections": true,
   "sideBar": true,
   "skip_h1_title": false,
   "title_cell": "Table of Contents",
   "title_sidebar": "Contents",
   "toc_cell": false,
   "toc_position": {},
   "toc_section_display": true,
   "toc_window_display": false
  }
 },
 "nbformat": 4,
 "nbformat_minor": 2
}
