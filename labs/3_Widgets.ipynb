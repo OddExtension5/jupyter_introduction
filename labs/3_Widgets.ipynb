{
 "cells": [
  {
   "cell_type": "markdown",
   "metadata": {},
   "source": [
    "# Widgets\n",
    "\n",
    "For this exercise let's take some world population data and make it sparkle with interactivity! Also, notice how we are telling a story with this particular notebook"
   ]
  },
  {
   "cell_type": "markdown",
   "metadata": {},
   "source": [
    "## Getting Data\n",
    "\n",
    "I wanted to get some data about the world's population, and found a csv online that I can use from a wonderful repository called [Github Datasets](https://github.com/datasets)"
   ]
  },
  {
   "cell_type": "code",
   "execution_count": 1,
   "metadata": {
    "ExecuteTime": {
     "end_time": "2020-01-02T06:42:17.789877Z",
     "start_time": "2020-01-02T06:42:17.249957Z"
    }
   },
   "outputs": [],
   "source": [
    "import pandas as pd\n",
    "\n",
    "real_population = pd.read_csv('https://raw.githubusercontent.com/datasets/population/master/data/population.csv')"
   ]
  },
  {
   "cell_type": "markdown",
   "metadata": {},
   "source": [
    "## Engineering Data\n",
    "\n",
    "Next, I needed to remove the entries that aren't actual countries"
   ]
  },
  {
   "cell_type": "code",
   "execution_count": 2,
   "metadata": {
    "ExecuteTime": {
     "end_time": "2020-01-02T06:42:17.789877Z",
     "start_time": "2020-01-02T06:42:17.249957Z"
    }
   },
   "outputs": [],
   "source": [
    "clean_population = real_population[~real_population['Country Code'].str.contains('CSS|ARB|CEB|EAR|EAS|EAP|TEA|EMU|ECS|ECA|TEC|EUU|FCS|HPC|HIC|IBRD|IBD|IBT|IDB|IDX|IDA|LTE|LCN|LAC|TLA|LDC|LMY|LIC|LMC|MEA|MNA|TMN|MIC|NAC|OED|OSS|PSS|PST|PRE|SST|SAS|TSA|SSF|SSA|TSS|UMC|WLD')]"
   ]
  },
  {
   "cell_type": "markdown",
   "metadata": {},
   "source": [
    "Since these entries had multiple years, I just wanted to find the highest one, regardless of year. Yes, I am assuming that population is increasing for most countries"
   ]
  },
  {
   "cell_type": "code",
   "execution_count": 3,
   "metadata": {
    "ExecuteTime": {
     "end_time": "2020-01-02T18:29:25.219203Z",
     "start_time": "2020-01-02T18:29:25.184105Z"
    }
   },
   "outputs": [
    {
     "data": {
      "text/plain": [
       "Country Code\n",
       "ABW       106585\n",
       "AFE    702976832\n",
       "AFG     40099462\n",
       "AFW    478185907\n",
       "AGO     34503774\n",
       "         ...    \n",
       "XKX      2086000\n",
       "YEM     32981641\n",
       "ZAF     59392255\n",
       "ZMB     19473125\n",
       "ZWE     15993524\n",
       "Name: Value, Length: 219, dtype: int64"
      ]
     },
     "execution_count": 3,
     "metadata": {},
     "output_type": "execute_result"
    }
   ],
   "source": [
    "grouped = clean_population.groupby(['Country Code'])['Value'].max()\n",
    "grouped"
   ]
  },
  {
   "cell_type": "markdown",
   "metadata": {},
   "source": [
    "I then realized that the above entry had no continent data, so I got another source of information."
   ]
  },
  {
   "cell_type": "code",
   "execution_count": 4,
   "metadata": {
    "ExecuteTime": {
     "end_time": "2020-01-02T20:41:16.704968Z",
     "start_time": "2020-01-02T20:41:16.256562Z"
    }
   },
   "outputs": [
    {
     "data": {
      "text/html": [
       "<div>\n",
       "<style scoped>\n",
       "    .dataframe tbody tr th:only-of-type {\n",
       "        vertical-align: middle;\n",
       "    }\n",
       "\n",
       "    .dataframe tbody tr th {\n",
       "        vertical-align: top;\n",
       "    }\n",
       "\n",
       "    .dataframe thead th {\n",
       "        text-align: right;\n",
       "    }\n",
       "</style>\n",
       "<table border=\"1\" class=\"dataframe\">\n",
       "  <thead>\n",
       "    <tr style=\"text-align: right;\">\n",
       "      <th></th>\n",
       "      <th>Continent_Name</th>\n",
       "      <th>Continent_Code</th>\n",
       "      <th>Country_Name</th>\n",
       "      <th>Two_Letter_Country_Code</th>\n",
       "      <th>Three_Letter_Country_Code</th>\n",
       "      <th>Country_Number</th>\n",
       "    </tr>\n",
       "  </thead>\n",
       "  <tbody>\n",
       "    <tr>\n",
       "      <th>0</th>\n",
       "      <td>Asia</td>\n",
       "      <td>AS</td>\n",
       "      <td>Afghanistan, Islamic Republic of</td>\n",
       "      <td>AF</td>\n",
       "      <td>AFG</td>\n",
       "      <td>4.0</td>\n",
       "    </tr>\n",
       "    <tr>\n",
       "      <th>1</th>\n",
       "      <td>Europe</td>\n",
       "      <td>EU</td>\n",
       "      <td>Albania, Republic of</td>\n",
       "      <td>AL</td>\n",
       "      <td>ALB</td>\n",
       "      <td>8.0</td>\n",
       "    </tr>\n",
       "    <tr>\n",
       "      <th>2</th>\n",
       "      <td>Antarctica</td>\n",
       "      <td>AN</td>\n",
       "      <td>Antarctica (the territory South of 60 deg S)</td>\n",
       "      <td>AQ</td>\n",
       "      <td>ATA</td>\n",
       "      <td>10.0</td>\n",
       "    </tr>\n",
       "    <tr>\n",
       "      <th>3</th>\n",
       "      <td>Africa</td>\n",
       "      <td>AF</td>\n",
       "      <td>Algeria, People's Democratic Republic of</td>\n",
       "      <td>DZ</td>\n",
       "      <td>DZA</td>\n",
       "      <td>12.0</td>\n",
       "    </tr>\n",
       "    <tr>\n",
       "      <th>4</th>\n",
       "      <td>Oceania</td>\n",
       "      <td>OC</td>\n",
       "      <td>American Samoa</td>\n",
       "      <td>AS</td>\n",
       "      <td>ASM</td>\n",
       "      <td>16.0</td>\n",
       "    </tr>\n",
       "    <tr>\n",
       "      <th>...</th>\n",
       "      <td>...</td>\n",
       "      <td>...</td>\n",
       "      <td>...</td>\n",
       "      <td>...</td>\n",
       "      <td>...</td>\n",
       "      <td>...</td>\n",
       "    </tr>\n",
       "    <tr>\n",
       "      <th>257</th>\n",
       "      <td>Africa</td>\n",
       "      <td>AF</td>\n",
       "      <td>Zambia, Republic of</td>\n",
       "      <td>ZM</td>\n",
       "      <td>ZMB</td>\n",
       "      <td>894.0</td>\n",
       "    </tr>\n",
       "    <tr>\n",
       "      <th>258</th>\n",
       "      <td>Oceania</td>\n",
       "      <td>OC</td>\n",
       "      <td>Disputed Territory</td>\n",
       "      <td>XX</td>\n",
       "      <td>NaN</td>\n",
       "      <td>NaN</td>\n",
       "    </tr>\n",
       "    <tr>\n",
       "      <th>259</th>\n",
       "      <td>Asia</td>\n",
       "      <td>AS</td>\n",
       "      <td>Iraq-Saudi Arabia Neutral Zone</td>\n",
       "      <td>XE</td>\n",
       "      <td>NaN</td>\n",
       "      <td>NaN</td>\n",
       "    </tr>\n",
       "    <tr>\n",
       "      <th>260</th>\n",
       "      <td>Asia</td>\n",
       "      <td>AS</td>\n",
       "      <td>United Nations Neutral Zone</td>\n",
       "      <td>XD</td>\n",
       "      <td>NaN</td>\n",
       "      <td>NaN</td>\n",
       "    </tr>\n",
       "    <tr>\n",
       "      <th>261</th>\n",
       "      <td>Asia</td>\n",
       "      <td>AS</td>\n",
       "      <td>Spratly Islands</td>\n",
       "      <td>XS</td>\n",
       "      <td>NaN</td>\n",
       "      <td>NaN</td>\n",
       "    </tr>\n",
       "  </tbody>\n",
       "</table>\n",
       "<p>262 rows × 6 columns</p>\n",
       "</div>"
      ],
      "text/plain": [
       "    Continent_Name Continent_Code   \n",
       "0             Asia             AS  \\\n",
       "1           Europe             EU   \n",
       "2       Antarctica             AN   \n",
       "3           Africa             AF   \n",
       "4          Oceania             OC   \n",
       "..             ...            ...   \n",
       "257         Africa             AF   \n",
       "258        Oceania             OC   \n",
       "259           Asia             AS   \n",
       "260           Asia             AS   \n",
       "261           Asia             AS   \n",
       "\n",
       "                                     Country_Name Two_Letter_Country_Code   \n",
       "0                Afghanistan, Islamic Republic of                      AF  \\\n",
       "1                            Albania, Republic of                      AL   \n",
       "2    Antarctica (the territory South of 60 deg S)                      AQ   \n",
       "3        Algeria, People's Democratic Republic of                      DZ   \n",
       "4                                  American Samoa                      AS   \n",
       "..                                            ...                     ...   \n",
       "257                           Zambia, Republic of                      ZM   \n",
       "258                            Disputed Territory                      XX   \n",
       "259                Iraq-Saudi Arabia Neutral Zone                      XE   \n",
       "260                   United Nations Neutral Zone                      XD   \n",
       "261                               Spratly Islands                      XS   \n",
       "\n",
       "    Three_Letter_Country_Code  Country_Number  \n",
       "0                         AFG             4.0  \n",
       "1                         ALB             8.0  \n",
       "2                         ATA            10.0  \n",
       "3                         DZA            12.0  \n",
       "4                         ASM            16.0  \n",
       "..                        ...             ...  \n",
       "257                       ZMB           894.0  \n",
       "258                       NaN             NaN  \n",
       "259                       NaN             NaN  \n",
       "260                       NaN             NaN  \n",
       "261                       NaN             NaN  \n",
       "\n",
       "[262 rows x 6 columns]"
      ]
     },
     "execution_count": 4,
     "metadata": {},
     "output_type": "execute_result"
    }
   ],
   "source": [
    "continents = pd.read_csv('https://pkgstore.datahub.io/JohnSnowLabs/country-and-continent-codes-list/country-and-continent-codes-list-csv_csv/data/b7876b7f496677669644f3d1069d3121/country-and-continent-codes-list-csv_csv.csv')\n",
    "continents"
   ]
  },
  {
   "cell_type": "markdown",
   "metadata": {},
   "source": [
    "Merging both together"
   ]
  },
  {
   "cell_type": "code",
   "execution_count": 5,
   "metadata": {
    "ExecuteTime": {
     "end_time": "2020-01-02T06:43:00.396653Z",
     "start_time": "2020-01-02T06:43:00.374650Z"
    }
   },
   "outputs": [],
   "source": [
    "merged = pd.merge(grouped, continents, how=\"left\", left_on=\"Country Code\", right_on=\"Three_Letter_Country_Code\")"
   ]
  },
  {
   "cell_type": "markdown",
   "metadata": {},
   "source": [
    "Dropping all information that has empty data since that would be useless to me"
   ]
  },
  {
   "cell_type": "code",
   "execution_count": 6,
   "metadata": {
    "ExecuteTime": {
     "end_time": "2020-01-02T21:14:08.646035Z",
     "start_time": "2020-01-02T21:14:08.633532Z"
    }
   },
   "outputs": [],
   "source": [
    "merged.dropna(inplace=True)"
   ]
  },
  {
   "cell_type": "markdown",
   "metadata": {},
   "source": [
    "## Creating a function to dynamically display\n",
    "\n",
    "The following function will take two arguments, `selection` and `topk`. `selection` is the continent, and `topk` is for the top number of countries in a continent."
   ]
  },
  {
   "cell_type": "code",
   "execution_count": 9,
   "metadata": {
    "ExecuteTime": {
     "end_time": "2020-01-02T21:14:13.469033Z",
     "start_time": "2020-01-02T21:14:13.430102Z"
    }
   },
   "outputs": [
    {
     "name": "stderr",
     "output_type": "stream",
     "text": [
      "Matplotlib is building the font cache; this may take a moment.\n"
     ]
    },
    {
     "ename": "ModuleNotFoundError",
     "evalue": "No module named 'seaborn'",
     "output_type": "error",
     "traceback": [
      "\u001b[1;31m---------------------------------------------------------------------------\u001b[0m",
      "\u001b[1;31mModuleNotFoundError\u001b[0m                       Traceback (most recent call last)",
      "Cell \u001b[1;32mIn[9], line 4\u001b[0m\n\u001b[0;32m      2\u001b[0m \u001b[38;5;28;01mimport\u001b[39;00m \u001b[38;5;21;01mmatplotlib\u001b[39;00m\u001b[38;5;21;01m.\u001b[39;00m\u001b[38;5;21;01mpyplot\u001b[39;00m \u001b[38;5;28;01mas\u001b[39;00m \u001b[38;5;21;01mplt\u001b[39;00m\n\u001b[0;32m      3\u001b[0m \u001b[38;5;28;01mimport\u001b[39;00m \u001b[38;5;21;01mnumpy\u001b[39;00m \u001b[38;5;28;01mas\u001b[39;00m \u001b[38;5;21;01mnp\u001b[39;00m\n\u001b[1;32m----> 4\u001b[0m \u001b[38;5;28;01mimport\u001b[39;00m \u001b[38;5;21;01mseaborn\u001b[39;00m \u001b[38;5;28;01mas\u001b[39;00m \u001b[38;5;21;01msns\u001b[39;00m\n\u001b[0;32m      6\u001b[0m \u001b[38;5;28;01mdef\u001b[39;00m \u001b[38;5;21mshow_top\u001b[39m(selection, topk):\n\u001b[0;32m      7\u001b[0m     plt\u001b[38;5;241m.\u001b[39mfigure(figsize\u001b[38;5;241m=\u001b[39m(\u001b[38;5;241m23\u001b[39m,\u001b[38;5;241m5\u001b[39m))\n",
      "\u001b[1;31mModuleNotFoundError\u001b[0m: No module named 'seaborn'"
     ]
    }
   ],
   "source": [
    "%matplotlib inline\n",
    "import matplotlib.pyplot as plt\n",
    "import numpy as np\n",
    "import seaborn as sns\n",
    "\n",
    "def show_top(selection, topk):\n",
    "    plt.figure(figsize=(23,5))\n",
    "    sns.set_style(\"whitegrid\")\n",
    "    result = merged[merged['Continent_Name'] == selection].sort_values('Value', ascending=False).head(topk)\n",
    "    barplot= sns.barplot(result['Country_Name'], result['Value'])\n",
    "    barplot.set_xticklabels(barplot.get_xticklabels(),rotation=45)"
   ]
  },
  {
   "cell_type": "markdown",
   "metadata": {},
   "source": [
    "Here we just get all the unique continent names"
   ]
  },
  {
   "cell_type": "code",
   "execution_count": null,
   "metadata": {
    "ExecuteTime": {
     "end_time": "2020-01-02T21:20:31.328892Z",
     "start_time": "2020-01-02T21:20:31.309896Z"
    }
   },
   "outputs": [],
   "source": [
    "items = merged['Continent_Name'].unique()\n",
    "items"
   ]
  },
  {
   "cell_type": "markdown",
   "metadata": {},
   "source": [
    "## Exercise 1 \n",
    "\n",
    "1. Create a drop down widget that shows the continents\n",
    "2. Create a slider widget that will set the top number of countries, make the number 1 through 25.\n",
    "3. Call `interact` with the `show_top` function above"
   ]
  },
  {
   "cell_type": "code",
   "execution_count": null,
   "metadata": {
    "ExecuteTime": {
     "end_time": "2020-01-02T07:02:36.277310Z",
     "start_time": "2020-01-02T07:02:36.259430Z"
    }
   },
   "outputs": [],
   "source": []
  },
  {
   "cell_type": "code",
   "execution_count": null,
   "metadata": {
    "ExecuteTime": {
     "end_time": "2020-01-02T07:02:39.763906Z",
     "start_time": "2020-01-02T07:02:39.341357Z"
    }
   },
   "outputs": [],
   "source": []
  }
 ],
 "metadata": {
  "kernelspec": {
   "display_name": "Python 3 (ipykernel)",
   "language": "python",
   "name": "python3"
  },
  "language_info": {
   "codemirror_mode": {
    "name": "ipython",
    "version": 3
   },
   "file_extension": ".py",
   "mimetype": "text/x-python",
   "name": "python",
   "nbconvert_exporter": "python",
   "pygments_lexer": "ipython3",
   "version": "3.11.0"
  },
  "toc": {
   "base_numbering": 1,
   "nav_menu": {},
   "number_sections": true,
   "sideBar": true,
   "skip_h1_title": false,
   "title_cell": "Table of Contents",
   "title_sidebar": "Contents",
   "toc_cell": false,
   "toc_position": {},
   "toc_section_display": true,
   "toc_window_display": false
  }
 },
 "nbformat": 4,
 "nbformat_minor": 2
}
