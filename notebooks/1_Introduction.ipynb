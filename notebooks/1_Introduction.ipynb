{
 "cells": [
  {
   "cell_type": "markdown",
   "metadata": {},
   "source": [
    "# Jupyter Notebook\n",
    "\n",
    "This shows how a jupyter notebook works.  It uses markdown. \n",
    "It is also a way for you to help learn content. It merges documentation, code, and visualizations to create a compelling story. "
   ]
  },
  {
   "cell_type": "markdown",
   "metadata": {},
   "source": [
    "## Cell Manipulation"
   ]
  },
  {
   "cell_type": "markdown",
   "metadata": {},
   "source": [
    "### Basic Keyboard\n",
    "\n",
    "* **C** Copy\n",
    "* **X** Cut\n",
    "* **V** Paste!\n",
    "* **Z** Redo"
   ]
  },
  {
   "cell_type": "markdown",
   "metadata": {},
   "source": [
    "### Evaluating Cells\n",
    "\n",
    "* When editing a cell you are in _Edit mode_\n",
    "* When are done editing and you run the cell you will be in _Command Mode_\n",
    "* You have diffent flavors of running cells\n",
    "  * ⇧↩ or **SHIFT + ENTER** run cell, select below\n",
    "  * ⌃↩ or **CTRL + ENTER** run selected cells\n",
    "  * ⌥↩ or **ALT + ENTER** run cell and insert below"
   ]
  },
  {
   "cell_type": "code",
   "execution_count": 5,
   "metadata": {
    "ExecuteTime": {
     "end_time": "2020-01-03T19:31:19.879794Z",
     "start_time": "2020-01-03T19:31:19.871007Z"
    }
   },
   "outputs": [
    {
     "name": "stdout",
     "output_type": "stream",
     "text": [
      "10\n"
     ]
    }
   ],
   "source": [
    "a = 10"
   ]
  },
  {
   "cell_type": "markdown",
   "metadata": {},
   "source": [
    "### Adding Cells\n",
    "\n",
    "* A Cell above can be created by pressing **A** in Command Mode\n",
    "* A Cell below can be created by pressing **B** in Command Mode"
   ]
  },
  {
   "cell_type": "code",
   "execution_count": null,
   "metadata": {},
   "outputs": [],
   "source": []
  },
  {
   "cell_type": "code",
   "execution_count": null,
   "metadata": {},
   "outputs": [],
   "source": []
  },
  {
   "cell_type": "markdown",
   "metadata": {},
   "source": [
    "### Deleting Cells\n",
    "\n",
    "A cell can be deleted with **D,D**"
   ]
  },
  {
   "cell_type": "code",
   "execution_count": null,
   "metadata": {
    "ExecuteTime": {
     "end_time": "2020-01-03T19:31:19.896916Z",
     "start_time": "2020-01-03T19:31:19.888698Z"
    }
   },
   "outputs": [],
   "source": [
    "print(\"Hello\")"
   ]
  },
  {
   "cell_type": "code",
   "execution_count": null,
   "metadata": {
    "ExecuteTime": {
     "end_time": "2020-01-03T19:31:19.915339Z",
     "start_time": "2020-01-03T19:31:19.900757Z"
    }
   },
   "outputs": [],
   "source": [
    "print(\"World\")"
   ]
  },
  {
   "cell_type": "markdown",
   "metadata": {},
   "source": [
    "### Splitting Cells\n",
    "\n",
    "A cell can be split in _Edit Mode_ using **⌃⇧Minus** or **CTRL+SHIFT+MINUS**\n",
    "\n",
    "### Merging Cells\n",
    "\n",
    "A cell can be merged in _Command Mode_ after selecting multiple cells using **⇧M** or **SHIFT+M**"
   ]
  },
  {
   "cell_type": "code",
   "execution_count": null,
   "metadata": {
    "ExecuteTime": {
     "end_time": "2020-01-03T19:31:19.933375Z",
     "start_time": "2020-01-03T19:31:19.922314Z"
    }
   },
   "outputs": [],
   "source": [
    "a = 30\n",
    "b = 10\n"
   ]
  },
  {
   "cell_type": "markdown",
   "metadata": {},
   "source": [
    "## Types of Cells\n",
    "\n",
    "Cells can either be:\n",
    "\n",
    "* **Markdown -** Using markdown to create documentation cells\n",
    "* **Code -** Cells representing code, runnable\n",
    "* **Raw -** Cells with no formatting, and no interpretation since it is not code"
   ]
  },
  {
   "cell_type": "markdown",
   "metadata": {},
   "source": [
    "## Markdown"
   ]
  },
  {
   "cell_type": "markdown",
   "metadata": {},
   "source": [
    "### Bullet Lists\n",
    "\n",
    "* One\n",
    "* Two\n",
    "* Three"
   ]
  },
  {
   "cell_type": "markdown",
   "metadata": {},
   "source": [
    "### Strikethrough\n",
    "\n",
    "~~This should strikethrough~~"
   ]
  },
  {
   "cell_type": "markdown",
   "metadata": {},
   "source": [
    "### Tables\n",
    "\n",
    "The following is a table\n",
    "\n",
    "| Column 1 | Column 2 |\n",
    "| ---------|----------|\n",
    "| One      | `1`      |\n",
    "| Two      | `2`      |"
   ]
  },
  {
   "cell_type": "markdown",
   "metadata": {},
   "source": [
    "### Checkboxes \n",
    "\n",
    "You can have displayed checkboxes, although Jupyter notebooks has widgets that do a better job.\n",
    "\n",
    "- [X] One\n",
    "- [ ] Two\n",
    "- [ ] Three"
   ]
  },
  {
   "cell_type": "markdown",
   "metadata": {},
   "source": [
    "### Carriage Returns\n",
    "\n",
    "Carriage Returns can be done with two spaces at the end of the line:\n",
    "\n",
    "<hr>\n",
    "\n",
    "Space, The final frontier  \n",
    "These are the voyages of Starship Enterprise  \n",
    "In its continuing missions  \n",
    "To seek out new life, and new civilization  \n",
    "To boldly go where no one has gone before  \n",
    "\n",
    "<hr>"
   ]
  },
  {
   "cell_type": "markdown",
   "metadata": {},
   "source": [
    "### Code\n",
    "\n",
    "Inline `code` has `back-ticks around` it.\n",
    "\n",
    "Block `code` has triple tick marks around it, and an optional language which offers syntax highligting\n",
    "\n",
    "```python\n",
    "s = \"Python syntax highlighting\"\n",
    "print s\n",
    "```\n",
    "\n",
    "You can also indent four spaces\n",
    "\n",
    "    def main() {\n",
    "        print(\"Hello\")\n",
    "    }\n",
    "\n",
    "**NOTE:** Some markdown features do not work. This include footnotes and ancillary comments"
   ]
  },
  {
   "cell_type": "markdown",
   "metadata": {},
   "source": [
    "### Displaying Images\n",
    "\n",
    "#### Displaying images in the markdown cells \n",
    "\n",
    "Use standard markdown to display images: The following uses markdown to display the image\n",
    "\n",
    "![Jupyter_Logo](https://jupyter.org/assets/homepage/main-logo.svg \"Jupyter Logo\")"
   ]
  },
  {
   "cell_type": "markdown",
   "metadata": {},
   "source": [
    "## $\\LaTeX$ \n",
    "\n",
    "We can also have formulas by flanking dollar signs around a Latex formula.  See cheatsheet for more options https://wch.github.io/latexsheet/ or go see the following cells.  For example, $e=mc^2$"
   ]
  },
  {
   "cell_type": "markdown",
   "metadata": {},
   "source": [
    "**TIP:** Import images from the web for a nice cheatsheet\n",
    "\n",
    "![latex_0](https://wch.github.io/latexsheet/latexsheet-0.png)\n",
    "![latex_1](https://wch.github.io/latexsheet/latexsheet-1.png)"
   ]
  },
  {
   "cell_type": "markdown",
   "metadata": {},
   "source": [
    "Here is a $\\LaTeX$ example that will make us look and feel really smart: $\\idotsint_V \\mu(u_1,\\dots,u_k) \\,du_1 \\dots du_k$ and $\\sum_{n=1}^{\\infty} 2^{-n} = 1$"
   ]
  },
  {
   "cell_type": "markdown",
   "metadata": {},
   "source": [
    "## Code\n",
    "\n",
    "Turn on code by typing 'Y' on a cell.  The cell below is already a code cell. There is nothing that you need to do, but if you were to create your own cells, and you want to ensure that it is for creating code, then hit 'Y'"
   ]
  },
  {
   "cell_type": "code",
   "execution_count": null,
   "metadata": {
    "ExecuteTime": {
     "end_time": "2020-01-03T19:31:19.952711Z",
     "start_time": "2020-01-03T19:31:19.941364Z"
    }
   },
   "outputs": [],
   "source": [
    "print('foo')"
   ]
  },
  {
   "cell_type": "markdown",
   "metadata": {},
   "source": [
    "### Evaluating Code in Jupyter Notebooks\n",
    "\n",
    "The last statement in a cell will be evaluated and displayed underneath the cell. `In` represents the input, and `Out` represents the output."
   ]
  },
  {
   "cell_type": "code",
   "execution_count": null,
   "metadata": {
    "ExecuteTime": {
     "end_time": "2020-01-03T19:31:19.980166Z",
     "start_time": "2020-01-03T19:31:19.956299Z"
    }
   },
   "outputs": [],
   "source": [
    "a = 10\n",
    "b = 50\n",
    "a + b"
   ]
  },
  {
   "cell_type": "markdown",
   "metadata": {},
   "source": [
    "If there is no return type, or a function that is a side-effect then you will not receive an output"
   ]
  },
  {
   "cell_type": "code",
   "execution_count": null,
   "metadata": {
    "ExecuteTime": {
     "end_time": "2020-01-03T19:31:19.989999Z",
     "start_time": "2020-01-03T19:31:19.984807Z"
    }
   },
   "outputs": [],
   "source": [
    "c = 40"
   ]
  },
  {
   "cell_type": "code",
   "execution_count": null,
   "metadata": {
    "ExecuteTime": {
     "end_time": "2020-01-03T19:31:19.998827Z",
     "start_time": "2020-01-03T19:31:19.993079Z"
    }
   },
   "outputs": [],
   "source": [
    "print(\"This will print, but notice no Out[Num]\")"
   ]
  },
  {
   "cell_type": "markdown",
   "metadata": {},
   "source": [
    "### Tooltips\n",
    "\n",
    "Tooltips can be perform by using the **SHIFT+TAB** key as long as your cursor is in the method name. Try it below by putting the cursor inside the `print` and hitting **SHIFT+TAB**. Try it once, twice, three, and four times!"
   ]
  },
  {
   "cell_type": "code",
   "execution_count": null,
   "metadata": {
    "ExecuteTime": {
     "end_time": "2020-01-03T19:31:20.008158Z",
     "start_time": "2020-01-03T19:31:20.002478Z"
    }
   },
   "outputs": [],
   "source": [
    "print('foo')"
   ]
  },
  {
   "cell_type": "markdown",
   "metadata": {},
   "source": [
    "### Code Completion\n",
    "\n",
    "Code completion offers choices for methods and variables that you would like to use.  To invoke a code completion, hit **TAB** after establishing an assignment"
   ]
  },
  {
   "cell_type": "code",
   "execution_count": null,
   "metadata": {
    "ExecuteTime": {
     "end_time": "2020-01-03T19:31:20.020664Z",
     "start_time": "2020-01-03T19:31:20.013759Z"
    }
   },
   "outputs": [],
   "source": [
    "my_string = \"Hello to Jupyter!\"\n",
    "my_string"
   ]
  },
  {
   "cell_type": "markdown",
   "metadata": {},
   "source": [
    "### Images in Code Cells\n",
    "\n",
    "You can display other images using code. You can include an image from a file or from a URL."
   ]
  },
  {
   "cell_type": "code",
   "execution_count": null,
   "metadata": {
    "ExecuteTime": {
     "end_time": "2020-01-03T19:31:20.703006Z",
     "start_time": "2020-01-03T19:31:20.023245Z"
    }
   },
   "outputs": [],
   "source": [
    "from IPython.display import Image, display\n",
    "url = 'https://upload.wikimedia.org/wikipedia/commons/thumb/0/0a/Python.svg/1024px-Python.svg.png'\n",
    "display(Image(url, width='20%', height='20%')) "
   ]
  },
  {
   "cell_type": "markdown",
   "metadata": {},
   "source": [
    "### Line Numbers\n",
    "\n",
    "**L** will toggle line numbers in a code cell you have selected.  \n",
    "**⇧L** or **SHIFT+L** will toggle line numbers in all code and raw cells in your jupyter notebook"
   ]
  },
  {
   "cell_type": "code",
   "execution_count": null,
   "metadata": {
    "ExecuteTime": {
     "end_time": "2020-01-03T19:31:20.715975Z",
     "start_time": "2020-01-03T19:31:20.705037Z"
    }
   },
   "outputs": [],
   "source": [
    "a = 10\n",
    "b = 50\n",
    "a + b"
   ]
  },
  {
   "cell_type": "markdown",
   "metadata": {},
   "source": [
    "## Raw\n",
    "\n",
    "Raw cells don't do much, it isn't code, nor is formatted text. It is just raw data. You can change a cell to raw, by pressing **R** on the cell.\n",
    "\n",
    "**TIP:** Use Raw format for a cell to comment it out, but leave it around in case you need it."
   ]
  },
  {
   "cell_type": "raw",
   "metadata": {},
   "source": [
    "def not_sure_about_this():\n",
    "    for item in items:\n",
    "        bits = []\n",
    "\n",
    "        try:\n",
    "            bits.append(str(item['item'].attr_x))\n",
    "        except:\n",
    "            bits.append('ERR')\n",
    "\n",
    "        try:\n",
    "            bits.append(str(item['item'].attr_x.attr_x))\n",
    "        except:\n",
    "            bits.append('ERR')\n",
    "\n",
    "        \n",
    "        output.append('\"{line}\"'.format(line='\",\"'.join([s.replace('\"', \"'\") for s in bits])))"
   ]
  },
  {
   "cell_type": "markdown",
   "metadata": {},
   "source": [
    "## Python Programming\n",
    "\n",
    "Python is the preferred language for data science and in Jupyter Notebooks. Let's start with a slight introduction."
   ]
  },
  {
   "cell_type": "code",
   "execution_count": null,
   "metadata": {
    "ExecuteTime": {
     "end_time": "2020-01-03T19:31:20.727364Z",
     "start_time": "2020-01-03T19:31:20.719315Z"
    }
   },
   "outputs": [],
   "source": [
    "nums = [1,2,3,4,5,6]\n",
    "nums"
   ]
  },
  {
   "cell_type": "markdown",
   "metadata": {},
   "source": [
    "### Using Numpy \n",
    "\n",
    "Numpy is high performance, C backed number crunching framework"
   ]
  },
  {
   "cell_type": "code",
   "execution_count": null,
   "metadata": {
    "ExecuteTime": {
     "end_time": "2020-01-03T19:31:21.311134Z",
     "start_time": "2020-01-03T19:31:20.731380Z"
    }
   },
   "outputs": [],
   "source": [
    "import numpy as np\n",
    "numpy_array = np.array([1,2,3,4,5])\n",
    "numpy_array"
   ]
  },
  {
   "cell_type": "markdown",
   "metadata": {},
   "source": [
    "### Using Pandas\n",
    "\n",
    "Pandas is a library to manipulate data. It stands for \"Panel Data\".  \n",
    "\n",
    "#### `pd.Series`\n",
    "\n",
    "A series is an optimized list in Python which has labels associated with the elements."
   ]
  },
  {
   "cell_type": "code",
   "execution_count": 1,
   "metadata": {
    "ExecuteTime": {
     "end_time": "2021-04-12T17:35:45.790484Z",
     "start_time": "2021-04-12T17:35:24.010998Z"
    }
   },
   "outputs": [
    {
     "data": {
      "text/plain": [
       "China            1433783686\n",
       "India            1366417754\n",
       "United States     329064917\n",
       "Indonesia         270625568\n",
       "Pakistan          216565318\n",
       "dtype: int64"
      ]
     },
     "execution_count": 1,
     "metadata": {},
     "output_type": "execute_result"
    }
   ],
   "source": [
    "import pandas as pd\n",
    "population = pd.Series([1_433_783_686,\n",
    "                        1_366_417_754,\n",
    "                        329_064_917,\n",
    "                        270_625_568,\n",
    "                        216_565_318], \n",
    "         \n",
    "                       index = ['China', \n",
    "                                'India', \n",
    "                                'United States', \n",
    "                                'Indonesia', \n",
    "                                'Pakistan'])\n",
    "population"
   ]
  },
  {
   "cell_type": "markdown",
   "metadata": {},
   "source": [
    "Here is an example of that Series with different labels"
   ]
  },
  {
   "cell_type": "code",
   "execution_count": 2,
   "metadata": {
    "ExecuteTime": {
     "end_time": "2021-04-12T17:36:19.590799Z",
     "start_time": "2021-04-12T17:36:19.572637Z"
    }
   },
   "outputs": [
    {
     "data": {
      "text/plain": [
       "Russia           16376870\n",
       "China             9388211\n",
       "United States     9147420\n",
       "Canada            9093510\n",
       "Brazil            8358140\n",
       "dtype: int64"
      ]
     },
     "execution_count": 2,
     "metadata": {},
     "output_type": "execute_result"
    }
   ],
   "source": [
    "import pandas as pd\n",
    "area_sq_km = pd.Series([16_376_870,\n",
    "                        9_388_211,\n",
    "                        9_147_420,\n",
    "                        9_093_510,\n",
    "                        8_358_140], \n",
    "                       index = ['Russia', \n",
    "                                'China', \n",
    "                                'United States', \n",
    "                                'Canada', \n",
    "                                'Brazil'])\n",
    "area_sq_km"
   ]
  },
  {
   "cell_type": "markdown",
   "metadata": {},
   "source": [
    "#### `pd.DataFrame` \n",
    "\n",
    "`DataFrame` is of the Pandas package and it combines multiple `Series` into a `DataFrame`. It is analogous to a small Excel sheet."
   ]
  },
  {
   "cell_type": "code",
   "execution_count": 3,
   "metadata": {
    "ExecuteTime": {
     "end_time": "2021-04-12T17:36:28.567157Z",
     "start_time": "2021-04-12T17:36:28.526409Z"
    }
   },
   "outputs": [
    {
     "data": {
      "text/html": [
       "<div>\n",
       "<style scoped>\n",
       "    .dataframe tbody tr th:only-of-type {\n",
       "        vertical-align: middle;\n",
       "    }\n",
       "\n",
       "    .dataframe tbody tr th {\n",
       "        vertical-align: top;\n",
       "    }\n",
       "\n",
       "    .dataframe thead th {\n",
       "        text-align: right;\n",
       "    }\n",
       "</style>\n",
       "<table border=\"1\" class=\"dataframe\">\n",
       "  <thead>\n",
       "    <tr style=\"text-align: right;\">\n",
       "      <th></th>\n",
       "      <th>Russia</th>\n",
       "      <th>China</th>\n",
       "      <th>United States</th>\n",
       "      <th>Canada</th>\n",
       "      <th>Brazil</th>\n",
       "      <th>India</th>\n",
       "      <th>Indonesia</th>\n",
       "      <th>Pakistan</th>\n",
       "    </tr>\n",
       "  </thead>\n",
       "  <tbody>\n",
       "    <tr>\n",
       "      <th>Area (km²)</th>\n",
       "      <td>16376870.0</td>\n",
       "      <td>9.388211e+06</td>\n",
       "      <td>9147420.0</td>\n",
       "      <td>9093510.0</td>\n",
       "      <td>8358140.0</td>\n",
       "      <td>NaN</td>\n",
       "      <td>NaN</td>\n",
       "      <td>NaN</td>\n",
       "    </tr>\n",
       "    <tr>\n",
       "      <th>Population</th>\n",
       "      <td>NaN</td>\n",
       "      <td>1.433784e+09</td>\n",
       "      <td>329064917.0</td>\n",
       "      <td>NaN</td>\n",
       "      <td>NaN</td>\n",
       "      <td>1.366418e+09</td>\n",
       "      <td>270625568.0</td>\n",
       "      <td>216565318.0</td>\n",
       "    </tr>\n",
       "  </tbody>\n",
       "</table>\n",
       "</div>"
      ],
      "text/plain": [
       "                Russia         China  United States     Canada     Brazil  \\\n",
       "Area (km²)  16376870.0  9.388211e+06      9147420.0  9093510.0  8358140.0   \n",
       "Population         NaN  1.433784e+09    329064917.0        NaN        NaN   \n",
       "\n",
       "                   India    Indonesia     Pakistan  \n",
       "Area (km²)           NaN          NaN          NaN  \n",
       "Population  1.366418e+09  270625568.0  216565318.0  "
      ]
     },
     "execution_count": 3,
     "metadata": {},
     "output_type": "execute_result"
    }
   ],
   "source": [
    "country_df = pd.DataFrame([area_sq_km, population], index= ['Area (km²)', 'Population'])\n",
    "country_df"
   ]
  },
  {
   "cell_type": "markdown",
   "metadata": {},
   "source": [
    "There are a whole lot of great things we can do with Pandas like drop empty values and transpose.  Here is an example."
   ]
  },
  {
   "cell_type": "code",
   "execution_count": 4,
   "metadata": {
    "ExecuteTime": {
     "end_time": "2021-04-12T17:39:28.172866Z",
     "start_time": "2021-04-12T17:39:28.038957Z"
    }
   },
   "outputs": [
    {
     "data": {
      "text/html": [
       "<div>\n",
       "<style scoped>\n",
       "    .dataframe tbody tr th:only-of-type {\n",
       "        vertical-align: middle;\n",
       "    }\n",
       "\n",
       "    .dataframe tbody tr th {\n",
       "        vertical-align: top;\n",
       "    }\n",
       "\n",
       "    .dataframe thead th {\n",
       "        text-align: right;\n",
       "    }\n",
       "</style>\n",
       "<table border=\"1\" class=\"dataframe\">\n",
       "  <thead>\n",
       "    <tr style=\"text-align: right;\">\n",
       "      <th></th>\n",
       "      <th>Area (km²)</th>\n",
       "      <th>Population</th>\n",
       "    </tr>\n",
       "  </thead>\n",
       "  <tbody>\n",
       "    <tr>\n",
       "      <th>Russia</th>\n",
       "      <td>16376870.0</td>\n",
       "      <td>NaN</td>\n",
       "    </tr>\n",
       "    <tr>\n",
       "      <th>China</th>\n",
       "      <td>9388211.0</td>\n",
       "      <td>1.433784e+09</td>\n",
       "    </tr>\n",
       "    <tr>\n",
       "      <th>United States</th>\n",
       "      <td>9147420.0</td>\n",
       "      <td>3.290649e+08</td>\n",
       "    </tr>\n",
       "    <tr>\n",
       "      <th>Canada</th>\n",
       "      <td>9093510.0</td>\n",
       "      <td>NaN</td>\n",
       "    </tr>\n",
       "    <tr>\n",
       "      <th>Brazil</th>\n",
       "      <td>8358140.0</td>\n",
       "      <td>NaN</td>\n",
       "    </tr>\n",
       "    <tr>\n",
       "      <th>India</th>\n",
       "      <td>NaN</td>\n",
       "      <td>1.366418e+09</td>\n",
       "    </tr>\n",
       "    <tr>\n",
       "      <th>Indonesia</th>\n",
       "      <td>NaN</td>\n",
       "      <td>2.706256e+08</td>\n",
       "    </tr>\n",
       "    <tr>\n",
       "      <th>Pakistan</th>\n",
       "      <td>NaN</td>\n",
       "      <td>2.165653e+08</td>\n",
       "    </tr>\n",
       "  </tbody>\n",
       "</table>\n",
       "</div>"
      ],
      "text/plain": [
       "               Area (km²)    Population\n",
       "Russia         16376870.0           NaN\n",
       "China           9388211.0  1.433784e+09\n",
       "United States   9147420.0  3.290649e+08\n",
       "Canada          9093510.0           NaN\n",
       "Brazil          8358140.0           NaN\n",
       "India                 NaN  1.366418e+09\n",
       "Indonesia             NaN  2.706256e+08\n",
       "Pakistan              NaN  2.165653e+08"
      ]
     },
     "execution_count": 4,
     "metadata": {},
     "output_type": "execute_result"
    }
   ],
   "source": [
    "flipped_country_df = country_df.transpose()\n",
    "flipped_country_df"
   ]
  },
  {
   "cell_type": "code",
   "execution_count": 5,
   "metadata": {
    "ExecuteTime": {
     "end_time": "2021-04-12T17:40:11.444086Z",
     "start_time": "2021-04-12T17:40:11.042063Z"
    }
   },
   "outputs": [
    {
     "data": {
      "text/html": [
       "<div>\n",
       "<style scoped>\n",
       "    .dataframe tbody tr th:only-of-type {\n",
       "        vertical-align: middle;\n",
       "    }\n",
       "\n",
       "    .dataframe tbody tr th {\n",
       "        vertical-align: top;\n",
       "    }\n",
       "\n",
       "    .dataframe thead th {\n",
       "        text-align: right;\n",
       "    }\n",
       "</style>\n",
       "<table border=\"1\" class=\"dataframe\">\n",
       "  <thead>\n",
       "    <tr style=\"text-align: right;\">\n",
       "      <th></th>\n",
       "      <th>Area (km²)</th>\n",
       "      <th>Population</th>\n",
       "    </tr>\n",
       "  </thead>\n",
       "  <tbody>\n",
       "    <tr>\n",
       "      <th>China</th>\n",
       "      <td>9388211.0</td>\n",
       "      <td>1.433784e+09</td>\n",
       "    </tr>\n",
       "    <tr>\n",
       "      <th>United States</th>\n",
       "      <td>9147420.0</td>\n",
       "      <td>3.290649e+08</td>\n",
       "    </tr>\n",
       "  </tbody>\n",
       "</table>\n",
       "</div>"
      ],
      "text/plain": [
       "               Area (km²)    Population\n",
       "China           9388211.0  1.433784e+09\n",
       "United States   9147420.0  3.290649e+08"
      ]
     },
     "execution_count": 5,
     "metadata": {},
     "output_type": "execute_result"
    }
   ],
   "source": [
    "big_pop_big_area = flipped_country_df.dropna()\n",
    "big_pop_big_area"
   ]
  },
  {
   "cell_type": "markdown",
   "metadata": {},
   "source": [
    "### Bringing in data from a source"
   ]
  },
  {
   "cell_type": "code",
   "execution_count": 7,
   "metadata": {
    "ExecuteTime": {
     "end_time": "2021-04-12T17:40:35.454502Z",
     "start_time": "2021-04-12T17:40:34.393787Z"
    }
   },
   "outputs": [
    {
     "data": {
      "text/html": [
       "<div>\n",
       "<style scoped>\n",
       "    .dataframe tbody tr th:only-of-type {\n",
       "        vertical-align: middle;\n",
       "    }\n",
       "\n",
       "    .dataframe tbody tr th {\n",
       "        vertical-align: top;\n",
       "    }\n",
       "\n",
       "    .dataframe thead th {\n",
       "        text-align: right;\n",
       "    }\n",
       "</style>\n",
       "<table border=\"1\" class=\"dataframe\">\n",
       "  <thead>\n",
       "    <tr style=\"text-align: right;\">\n",
       "      <th></th>\n",
       "      <th>Country Name</th>\n",
       "      <th>Country Code</th>\n",
       "      <th>Year</th>\n",
       "      <th>Value</th>\n",
       "    </tr>\n",
       "  </thead>\n",
       "  <tbody>\n",
       "    <tr>\n",
       "      <th>0</th>\n",
       "      <td>Aruba</td>\n",
       "      <td>ABW</td>\n",
       "      <td>1960</td>\n",
       "      <td>54608</td>\n",
       "    </tr>\n",
       "    <tr>\n",
       "      <th>1</th>\n",
       "      <td>Aruba</td>\n",
       "      <td>ABW</td>\n",
       "      <td>1961</td>\n",
       "      <td>55811</td>\n",
       "    </tr>\n",
       "    <tr>\n",
       "      <th>2</th>\n",
       "      <td>Aruba</td>\n",
       "      <td>ABW</td>\n",
       "      <td>1962</td>\n",
       "      <td>56682</td>\n",
       "    </tr>\n",
       "    <tr>\n",
       "      <th>3</th>\n",
       "      <td>Aruba</td>\n",
       "      <td>ABW</td>\n",
       "      <td>1963</td>\n",
       "      <td>57475</td>\n",
       "    </tr>\n",
       "    <tr>\n",
       "      <th>4</th>\n",
       "      <td>Aruba</td>\n",
       "      <td>ABW</td>\n",
       "      <td>1964</td>\n",
       "      <td>58178</td>\n",
       "    </tr>\n",
       "    <tr>\n",
       "      <th>...</th>\n",
       "      <td>...</td>\n",
       "      <td>...</td>\n",
       "      <td>...</td>\n",
       "      <td>...</td>\n",
       "    </tr>\n",
       "    <tr>\n",
       "      <th>16395</th>\n",
       "      <td>Zimbabwe</td>\n",
       "      <td>ZWE</td>\n",
       "      <td>2017</td>\n",
       "      <td>14751101</td>\n",
       "    </tr>\n",
       "    <tr>\n",
       "      <th>16396</th>\n",
       "      <td>Zimbabwe</td>\n",
       "      <td>ZWE</td>\n",
       "      <td>2018</td>\n",
       "      <td>15052184</td>\n",
       "    </tr>\n",
       "    <tr>\n",
       "      <th>16397</th>\n",
       "      <td>Zimbabwe</td>\n",
       "      <td>ZWE</td>\n",
       "      <td>2019</td>\n",
       "      <td>15354608</td>\n",
       "    </tr>\n",
       "    <tr>\n",
       "      <th>16398</th>\n",
       "      <td>Zimbabwe</td>\n",
       "      <td>ZWE</td>\n",
       "      <td>2020</td>\n",
       "      <td>15669666</td>\n",
       "    </tr>\n",
       "    <tr>\n",
       "      <th>16399</th>\n",
       "      <td>Zimbabwe</td>\n",
       "      <td>ZWE</td>\n",
       "      <td>2021</td>\n",
       "      <td>15993524</td>\n",
       "    </tr>\n",
       "  </tbody>\n",
       "</table>\n",
       "<p>16400 rows × 4 columns</p>\n",
       "</div>"
      ],
      "text/plain": [
       "      Country Name Country Code  Year     Value\n",
       "0            Aruba          ABW  1960     54608\n",
       "1            Aruba          ABW  1961     55811\n",
       "2            Aruba          ABW  1962     56682\n",
       "3            Aruba          ABW  1963     57475\n",
       "4            Aruba          ABW  1964     58178\n",
       "...            ...          ...   ...       ...\n",
       "16395     Zimbabwe          ZWE  2017  14751101\n",
       "16396     Zimbabwe          ZWE  2018  15052184\n",
       "16397     Zimbabwe          ZWE  2019  15354608\n",
       "16398     Zimbabwe          ZWE  2020  15669666\n",
       "16399     Zimbabwe          ZWE  2021  15993524\n",
       "\n",
       "[16400 rows x 4 columns]"
      ]
     },
     "execution_count": 7,
     "metadata": {},
     "output_type": "execute_result"
    }
   ],
   "source": [
    "import pandas as pd\n",
    "\n",
    "real_population = pd.read_csv('https://raw.githubusercontent.com/datasets/population/master/data/population.csv')\n",
    "real_population\n",
    "\n",
    "\n"
   ]
  },
  {
   "cell_type": "markdown",
   "metadata": {},
   "source": [
    "### Accessing columns"
   ]
  },
  {
   "cell_type": "code",
   "execution_count": 7,
   "metadata": {
    "ExecuteTime": {
     "end_time": "2021-04-12T17:41:05.493827Z",
     "start_time": "2021-04-12T17:41:05.385248Z"
    }
   },
   "outputs": [
    {
     "data": {
      "text/plain": [
       "0        1960\n",
       "1        1961\n",
       "2        1962\n",
       "3        1963\n",
       "4        1964\n",
       "         ... \n",
       "15404    2014\n",
       "15405    2015\n",
       "15406    2016\n",
       "15407    2017\n",
       "15408    2018\n",
       "Name: Year, Length: 15409, dtype: int64"
      ]
     },
     "execution_count": 7,
     "metadata": {},
     "output_type": "execute_result"
    }
   ],
   "source": [
    "real_population['Year']"
   ]
  },
  {
   "cell_type": "markdown",
   "metadata": {},
   "source": [
    "### Another way to go about retaining a column"
   ]
  },
  {
   "cell_type": "code",
   "execution_count": 10,
   "metadata": {
    "ExecuteTime": {
     "end_time": "2021-04-12T17:42:49.488543Z",
     "start_time": "2021-04-12T17:42:49.443565Z"
    }
   },
   "outputs": [
    {
     "data": {
      "text/plain": [
       "0        1960\n",
       "1        1961\n",
       "2        1962\n",
       "3        1963\n",
       "4        1964\n",
       "         ... \n",
       "15404    2014\n",
       "15405    2015\n",
       "15406    2016\n",
       "15407    2017\n",
       "15408    2018\n",
       "Name: Year, Length: 15409, dtype: int64"
      ]
     },
     "execution_count": 10,
     "metadata": {},
     "output_type": "execute_result"
    }
   ],
   "source": [
    "real_population.Year"
   ]
  },
  {
   "cell_type": "markdown",
   "metadata": {},
   "source": [
    "### What are the differences?\n",
    "\n",
    "1. Using brackets is great if you specifically want the column and want to avoid conflicts between column name and method a name\n",
    "2. Using the period style, is great when you need the help of auto-completion. Try erasing 'Year' above and use code completion"
   ]
  },
  {
   "cell_type": "markdown",
   "metadata": {},
   "source": [
    "## Filtering\n",
    "\n",
    "To filter data, use a process called masking to filter out content, but first let's ask it to only show data after 2010."
   ]
  },
  {
   "cell_type": "code",
   "execution_count": 11,
   "metadata": {
    "ExecuteTime": {
     "end_time": "2021-04-12T17:44:56.855018Z",
     "start_time": "2021-04-12T17:44:56.833790Z"
    }
   },
   "outputs": [
    {
     "data": {
      "text/plain": [
       "0        False\n",
       "1        False\n",
       "2        False\n",
       "3        False\n",
       "4        False\n",
       "         ...  \n",
       "15404     True\n",
       "15405     True\n",
       "15406     True\n",
       "15407     True\n",
       "15408     True\n",
       "Name: Year, Length: 15409, dtype: bool"
      ]
     },
     "execution_count": 11,
     "metadata": {},
     "output_type": "execute_result"
    }
   ],
   "source": [
    "real_population.Year > 2010"
   ]
  },
  {
   "cell_type": "markdown",
   "metadata": {},
   "source": [
    "### Filtering using a process called masking\n",
    "\n",
    "To actually perform the actual filtering we can \"re-feed the above results back in."
   ]
  },
  {
   "cell_type": "code",
   "execution_count": 12,
   "metadata": {
    "ExecuteTime": {
     "end_time": "2021-04-12T17:45:18.512276Z",
     "start_time": "2021-04-12T17:45:18.424528Z"
    }
   },
   "outputs": [
    {
     "data": {
      "text/html": [
       "<div>\n",
       "<style scoped>\n",
       "    .dataframe tbody tr th:only-of-type {\n",
       "        vertical-align: middle;\n",
       "    }\n",
       "\n",
       "    .dataframe tbody tr th {\n",
       "        vertical-align: top;\n",
       "    }\n",
       "\n",
       "    .dataframe thead th {\n",
       "        text-align: right;\n",
       "    }\n",
       "</style>\n",
       "<table border=\"1\" class=\"dataframe\">\n",
       "  <thead>\n",
       "    <tr style=\"text-align: right;\">\n",
       "      <th></th>\n",
       "      <th>Country Name</th>\n",
       "      <th>Country Code</th>\n",
       "      <th>Year</th>\n",
       "      <th>Value</th>\n",
       "    </tr>\n",
       "  </thead>\n",
       "  <tbody>\n",
       "    <tr>\n",
       "      <th>51</th>\n",
       "      <td>Arab World</td>\n",
       "      <td>ARB</td>\n",
       "      <td>2011</td>\n",
       "      <td>363158703</td>\n",
       "    </tr>\n",
       "    <tr>\n",
       "      <th>52</th>\n",
       "      <td>Arab World</td>\n",
       "      <td>ARB</td>\n",
       "      <td>2012</td>\n",
       "      <td>371443547</td>\n",
       "    </tr>\n",
       "    <tr>\n",
       "      <th>53</th>\n",
       "      <td>Arab World</td>\n",
       "      <td>ARB</td>\n",
       "      <td>2013</td>\n",
       "      <td>379705719</td>\n",
       "    </tr>\n",
       "    <tr>\n",
       "      <th>54</th>\n",
       "      <td>Arab World</td>\n",
       "      <td>ARB</td>\n",
       "      <td>2014</td>\n",
       "      <td>387907748</td>\n",
       "    </tr>\n",
       "    <tr>\n",
       "      <th>55</th>\n",
       "      <td>Arab World</td>\n",
       "      <td>ARB</td>\n",
       "      <td>2015</td>\n",
       "      <td>396028278</td>\n",
       "    </tr>\n",
       "    <tr>\n",
       "      <th>...</th>\n",
       "      <td>...</td>\n",
       "      <td>...</td>\n",
       "      <td>...</td>\n",
       "      <td>...</td>\n",
       "    </tr>\n",
       "    <tr>\n",
       "      <th>15404</th>\n",
       "      <td>Zimbabwe</td>\n",
       "      <td>ZWE</td>\n",
       "      <td>2014</td>\n",
       "      <td>13586681</td>\n",
       "    </tr>\n",
       "    <tr>\n",
       "      <th>15405</th>\n",
       "      <td>Zimbabwe</td>\n",
       "      <td>ZWE</td>\n",
       "      <td>2015</td>\n",
       "      <td>13814629</td>\n",
       "    </tr>\n",
       "    <tr>\n",
       "      <th>15406</th>\n",
       "      <td>Zimbabwe</td>\n",
       "      <td>ZWE</td>\n",
       "      <td>2016</td>\n",
       "      <td>14030390</td>\n",
       "    </tr>\n",
       "    <tr>\n",
       "      <th>15407</th>\n",
       "      <td>Zimbabwe</td>\n",
       "      <td>ZWE</td>\n",
       "      <td>2017</td>\n",
       "      <td>14236745</td>\n",
       "    </tr>\n",
       "    <tr>\n",
       "      <th>15408</th>\n",
       "      <td>Zimbabwe</td>\n",
       "      <td>ZWE</td>\n",
       "      <td>2018</td>\n",
       "      <td>14439018</td>\n",
       "    </tr>\n",
       "  </tbody>\n",
       "</table>\n",
       "<p>2097 rows × 4 columns</p>\n",
       "</div>"
      ],
      "text/plain": [
       "      Country Name Country Code  Year      Value\n",
       "51      Arab World          ARB  2011  363158703\n",
       "52      Arab World          ARB  2012  371443547\n",
       "53      Arab World          ARB  2013  379705719\n",
       "54      Arab World          ARB  2014  387907748\n",
       "55      Arab World          ARB  2015  396028278\n",
       "...            ...          ...   ...        ...\n",
       "15404     Zimbabwe          ZWE  2014   13586681\n",
       "15405     Zimbabwe          ZWE  2015   13814629\n",
       "15406     Zimbabwe          ZWE  2016   14030390\n",
       "15407     Zimbabwe          ZWE  2017   14236745\n",
       "15408     Zimbabwe          ZWE  2018   14439018\n",
       "\n",
       "[2097 rows x 4 columns]"
      ]
     },
     "execution_count": 12,
     "metadata": {},
     "output_type": "execute_result"
    }
   ],
   "source": [
    "real_population[real_population.Year > 2010]"
   ]
  },
  {
   "cell_type": "markdown",
   "metadata": {},
   "source": [
    "### Going deeper into Data Engineering and Data Science\n",
    "\n",
    "There is a rich environment for doing data filtering, grouping, and numerical operations. If you love this, then definitely get a copy of these books:\n",
    "\n",
    "Hands-On Machine Learning with Scikit-Learn, Keras, and TensorFlow, 2nd Edition  \n",
    "by Aurélien Géron  \n",
    "Publisher: O'Reilly Media, Inc.  \n",
    "Release Date: September 2019  \n",
    "ISBN: 9781492032649  \n",
    "  \n",
    "![Hands_On](https://learning.oreilly.com/library/cover/9781492032632/)"
   ]
  },
  {
   "cell_type": "markdown",
   "metadata": {},
   "source": [
    "Python Data Science Handbook  \n",
    "by Jake VanderPlas  \n",
    "Publisher: O'Reilly Media, Inc.  \n",
    "Release Date: November 2016  \n",
    "ISBN: 9781491912058  \n",
    "\n",
    "![Python_Data_Science_Handbook](https://learning.oreilly.com/library/cover/9781491912126/)"
   ]
  }
 ],
 "metadata": {
  "kernelspec": {
   "display_name": "Python 3 (ipykernel)",
   "language": "python",
   "name": "python3"
  },
  "language_info": {
   "codemirror_mode": {
    "name": "ipython",
    "version": 3
   },
   "file_extension": ".py",
   "mimetype": "text/x-python",
   "name": "python",
   "nbconvert_exporter": "python",
   "pygments_lexer": "ipython3",
   "version": "3.11.0"
  },
  "toc": {
   "base_numbering": 1,
   "nav_menu": {},
   "number_sections": true,
   "sideBar": true,
   "skip_h1_title": false,
   "title_cell": "Table of Contents",
   "title_sidebar": "Contents",
   "toc_cell": false,
   "toc_position": {},
   "toc_section_display": true,
   "toc_window_display": false
  }
 },
 "nbformat": 4,
 "nbformat_minor": 4
}
