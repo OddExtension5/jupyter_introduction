{
 "cells": [
  {
   "cell_type": "markdown",
   "metadata": {},
   "source": [
    "# Extensions\n",
    "\n",
    "Package contains a collection of community-contributed unofficial extensions that add functionality to the Jupyter notebook. These extensions are mostly written in Javascript and will be loaded locally in your browser.\n",
    "\n",
    "In order to install these extensions we ran either one of these commands. Keep in mind **you don't need to run these commands for this class**\n",
    "\n",
    "Conda:\n",
    "\n",
    "```sh\n",
    "conda install -c conda-forge jupyter_contrib_nbextensions\n",
    "```\n",
    "\n",
    "Pip:\n",
    "\n",
    "```sh\n",
    "pip install jupyter_contrib_nbextensions\n",
    "```\n",
    "\n",
    "There are various extensions that can change the way you interact with your notebook.\n",
    "\n",
    "We will start with two of them that you may find interesting, _Scratchpad_ and _ExecuteTime_"
   ]
  },
  {
   "cell_type": "code",
   "execution_count": 1,
   "metadata": {
    "ExecuteTime": {
     "end_time": "2021-04-12T18:54:37.871034Z",
     "start_time": "2021-04-12T18:54:37.864656Z"
    }
   },
   "outputs": [],
   "source": [
    "a = 3\n",
    "b = 10"
   ]
  },
  {
   "cell_type": "code",
   "execution_count": null,
   "metadata": {
    "ExecuteTime": {
     "end_time": "2020-01-02T04:49:50.529913Z",
     "start_time": "2020-01-02T04:49:40.520993Z"
    }
   },
   "outputs": [],
   "source": [
    "import time\n",
    "time.sleep(10)\n",
    "30 + 10"
   ]
  }
 ],
 "metadata": {
  "kernelspec": {
   "display_name": "Python 3 (ipykernel)",
   "language": "python",
   "name": "python3"
  },
  "language_info": {
   "codemirror_mode": {
    "name": "ipython",
    "version": 3
   },
   "file_extension": ".py",
   "mimetype": "text/x-python",
   "name": "python",
   "nbconvert_exporter": "python",
   "pygments_lexer": "ipython3",
   "version": "3.10.4"
  },
  "toc": {
   "base_numbering": 1,
   "nav_menu": {},
   "number_sections": true,
   "sideBar": true,
   "skip_h1_title": false,
   "title_cell": "Table of Contents",
   "title_sidebar": "Contents",
   "toc_cell": false,
   "toc_position": {},
   "toc_section_display": true,
   "toc_window_display": false
  }
 },
 "nbformat": 4,
 "nbformat_minor": 4
}
